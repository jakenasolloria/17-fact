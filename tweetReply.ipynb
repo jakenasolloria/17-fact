{
 "cells": [
  {
   "cell_type": "code",
   "execution_count": 6,
   "metadata": {},
   "outputs": [
    {
     "ename": "IndentationError",
     "evalue": "unexpected unindent (<ipython-input-6-37c19008ab83>, line 78)",
     "output_type": "error",
     "traceback": [
      "\u001b[1;36m  File \u001b[1;32m\"<ipython-input-6-37c19008ab83>\"\u001b[1;36m, line \u001b[1;32m78\u001b[0m\n\u001b[1;33m    put_last_tweet(file, new_id)\u001b[0m\n\u001b[1;37m    ^\u001b[0m\n\u001b[1;31mIndentationError\u001b[0m\u001b[1;31m:\u001b[0m unexpected unindent\n"
     ]
    }
   ],
   "source": [
    "import tweepy\n",
    "import json\n",
    "import requests\n",
    "import logging\n",
    "\n",
    "import Wallpaper\n",
    "import credentials\n",
    "\n",
    "consumer_key = credentials.API_key\n",
    "consumer_secret_key = credentials.API_secret_key\n",
    "access_token = credentials.access_token\n",
    "access_token_secret = credentials.access_token_secret\n",
    "\n",
    "auth = tweepy.OAuthHandler(consumer_key, consumer_secret_key)\n",
    "auth.set_access_token(access_token, access_token_secret)\n",
    "api = tweepy.API(auth)\n",
    "\n",
    "# For adding logs in application\n",
    "logger = logging.getLogger()\n",
    "logging.basicConfig(level=logging.INFO)\n",
    "logger.setLevel(logging.INFO)\n",
    "\n",
    "def get_quote():\n",
    "    url = \"https://api.quotable.io/random\"\n",
    "\n",
    "    try:\n",
    "        response = requests.get(url)\n",
    "    except:\n",
    "        logger.info(\"Error while calling API...\")\n",
    "    res = json.loads(response.text)\n",
    "    print(res)\n",
    "    return res['content'] + \"-\" + res['author']\n",
    "\n",
    "\n",
    "\n",
    "def get_last_tweet(file):\n",
    "    f = open(file, 'r')\n",
    "    lastId = int(float(f.read().strip()))\n",
    "    f.close()\n",
    "    return lastId\n",
    "\n",
    "def put_last_tweet(file, Id):\n",
    "    f = open(file, 'w')\n",
    "    f.write(str(Id))\n",
    "    f.close()\n",
    "    logger.info(\"Updated the file with the latest tweet Id\")\n",
    "    return\n",
    "\n",
    "def respondToTweet(file='tweet_ID.txt'):\n",
    "    last_id = get_last_tweet(file)\n",
    "    mentions = api.mentions_timeline(tweet_mode='extended')\n",
    "    if len(mentions) == 0:\n",
    "        return\n",
    "\n",
    "    new_id = 0\n",
    "    logger.info(\"someone mentioned me...\")\n",
    "\n",
    "    for mention in reversed(mentions):\n",
    "        logger.info(str(mention.id) + '-' + mention.full_text)\n",
    "        new_id = mention.id\n",
    "\n",
    "        if '#testbotquote' in mention.full_text.lower():\n",
    "            logger.info(\"Responding back with LeniFacts to -{}\".format(mention.id))\n",
    "            try:\n",
    "                tweet = get_quote()\n",
    "                Wallpaper.get_wallpaper(tweet)\n",
    "\n",
    "                media = api.media_upload(\"created_image.png\")\n",
    "\n",
    "                logger.info(\"liking and replying to tweet\")\n",
    "\n",
    "                api.create_favorite(mention.id)\n",
    "                api.update_status('@' + mention.user.screen_name + \" Here's your LeniFact\", mention.id,\n",
    "                                  media_ids=[media.media_id])\n",
    "            except:\n",
    "                logger.info(\"Already replied to {}\".format(mention.id))\n",
    "\n",
    "    put_last_tweet(file, new_id)\n",
    "\n",
    "if __name__==\"__main__\":\n",
    "    respondToTweet()"
   ]
  }
 ],
 "metadata": {
  "interpreter": {
   "hash": "5d80f2935a67ad24a252699da5ac9f84685d87e8e1566171f7b763f68668b842"
  },
  "kernelspec": {
   "display_name": "Python 3.9.0 64-bit",
   "name": "python3"
  },
  "language_info": {
   "codemirror_mode": {
    "name": "ipython",
    "version": 3
   },
   "file_extension": ".py",
   "mimetype": "text/x-python",
   "name": "python",
   "nbconvert_exporter": "python",
   "pygments_lexer": "ipython3",
   "version": "3.9.0"
  },
  "orig_nbformat": 4
 },
 "nbformat": 4,
 "nbformat_minor": 2
}
